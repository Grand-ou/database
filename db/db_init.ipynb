import pandas as pd

//tempDealTable = pd.read_csv("daily_deal_output.csv")#大盤的deal

//tempForeignTable = pd.read_csv("foreign_investor_output.csv")

//tempStockInfoTable = pd.read_csv("stock_info_output.csv")

//table:Deal
Deal = pd.DataFrame()
Deal.insert = (0, 'Company_id', [row['securities_name'] for row in tempStockInfoTable])
Deal.insert = (1, 'Ddate', [row['date'] for row in tempStockInfoTable])
Deal.insert = (2, 'Open_price', [row['open'] for row in tempStockInfoTable])
Deal.insert = (3, 'Close_price', [row['close'] for row in tempStockInfoTable])
Deal.insert = (4, 'High', [row['high'] for row in tempStockInfoTable])
Deal.insert = (5, 'Low', [row['low'] for row in tempStockInfoTable])
Deal.insert = (6, 'volume', [row['trade_volume'] for row in tempStockInfoTable])
//Deal.insert = (0, 'Risk', )


//table:Company
Cid = ["2330", "2454", "2412", "6505", "2317"]
CName = ["台積電", "聯發科", "中華電", "台塑化", "鴻海"]
COwner = ["劉德音", "蔡明介", "謝繼茂", "陳寶郎", "劉揚偉"]#董事長
Yield = [0.0166, 0.0376, 0.0383, 0.0058, 0.0367]
P_Ratio = [27.33, 16.27, 24.73, 18.77, 11.21]
Industry_type = ["半導體業", "半導體業", "通信網路業", "油電燃氣業", "其他電子業"]

company_dict = {
                "Cid":Cid,
                "CName":CName,
                "COwner":COwner,
                "Yield":Yield,
                "P_Ratio":P_Ratio,
                "Industry_type":Industry_type
}
Company = pd.DataFrame(company_dict)
